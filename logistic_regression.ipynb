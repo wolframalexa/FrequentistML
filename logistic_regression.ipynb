{
  "nbformat": 4,
  "nbformat_minor": 0,
  "metadata": {
    "colab": {
      "name": "logistic_regression.ipynb",
      "provenance": [],
      "collapsed_sections": [],
      "include_colab_link": true
    },
    "kernelspec": {
      "name": "python3",
      "display_name": "Python 3"
    }
  },
  "cells": [
    {
      "cell_type": "markdown",
      "metadata": {
        "id": "view-in-github",
        "colab_type": "text"
      },
      "source": [
        "<a href=\"https://colab.research.google.com/github/wolframalexa/FrequentistML/blob/master/logistic_regression.ipynb\" target=\"_parent\"><img src=\"https://colab.research.google.com/assets/colab-badge.svg\" alt=\"Open In Colab\"/></a>"
      ]
    },
    {
      "cell_type": "markdown",
      "metadata": {
        "id": "pokc_8cOt1I3",
        "colab_type": "text"
      },
      "source": [
        "Source: [UCI ML Repository Breast Cancer Dataset](https://https://archive.ics.uci.edu/ml/datasets/Breast+Cancer+Wisconsin+%28Diagnostic%29)"
      ]
    },
    {
      "cell_type": "markdown",
      "metadata": {
        "id": "CCEwaJwjnC2t",
        "colab_type": "text"
      },
      "source": [
        "This dataset contains information about skin masses and whether they are cancerous. The goal is to apply logistic regression to determine whether a mass of cells is cancerous or not."
      ]
    },
    {
      "cell_type": "code",
      "metadata": {
        "id": "1WrW6NQDsVwk",
        "colab_type": "code",
        "colab": {}
      },
      "source": [
        "#----------IMPORT PACKAGES\n",
        "\n",
        "import pandas as pd\n",
        "import numpy as np\n",
        "import matplotlib.pyplot as plt\n",
        "import random"
      ],
      "execution_count": null,
      "outputs": []
    },
    {
      "cell_type": "code",
      "metadata": {
        "id": "krq5rUZquIF6",
        "colab_type": "code",
        "colab": {}
      },
      "source": [
        "#----------DATA READING \n",
        "\n",
        "data = 'https://raw.githubusercontent.com/wolframalexa/FrequentistML/master/datasets/breast-cancer-wisconsin.csv'\n",
        "col_names=['ID','clump_thickness','cell_sz_unif','cell_shape_unif','marginal_adhesion','epi_cell_sz','bare_nuclei','bland_chromatin','normal_nucleoli','mitoses','class']\n",
        "dataframe = pd.read_table(data, sep=',',header=None,names=col_names,na_values='?')"
      ],
      "execution_count": null,
      "outputs": []
    },
    {
      "cell_type": "code",
      "metadata": {
        "id": "uOnLXeVOxLFK",
        "colab_type": "code",
        "colab": {
          "base_uri": "https://localhost:8080/",
          "height": 385
        },
        "outputId": "4354f676-1f1c-47b3-f86c-9e8c584d2f21"
      },
      "source": [
        "#----------CLEAN DATA\n",
        "\n",
        "# Add column to account for intercept \n",
        "ones_col = np.ones(len(dataframe))\n",
        "dataframe.insert(0, \"intercept\", ones_col, True) \n",
        "\n",
        "# Drop rows with missing data\n",
        "clean_data = dataframe.dropna(axis=0)\n",
        "\n",
        "# Adjust class - 0 is benign, 1 is malignant\n",
        "clean_data['class'] = (clean_data['class']-2)/2\n",
        "\n",
        "# Show data information                    \n",
        "clean_data.describe()"
      ],
      "execution_count": null,
      "outputs": [
        {
          "output_type": "stream",
          "text": [
            "/usr/local/lib/python3.6/dist-packages/ipykernel_launcher.py:11: SettingWithCopyWarning: \n",
            "A value is trying to be set on a copy of a slice from a DataFrame.\n",
            "Try using .loc[row_indexer,col_indexer] = value instead\n",
            "\n",
            "See the caveats in the documentation: https://pandas.pydata.org/pandas-docs/stable/user_guide/indexing.html#returning-a-view-versus-a-copy\n",
            "  # This is added back by InteractiveShellApp.init_path()\n"
          ],
          "name": "stderr"
        },
        {
          "output_type": "execute_result",
          "data": {
            "text/html": [
              "<div>\n",
              "<style scoped>\n",
              "    .dataframe tbody tr th:only-of-type {\n",
              "        vertical-align: middle;\n",
              "    }\n",
              "\n",
              "    .dataframe tbody tr th {\n",
              "        vertical-align: top;\n",
              "    }\n",
              "\n",
              "    .dataframe thead th {\n",
              "        text-align: right;\n",
              "    }\n",
              "</style>\n",
              "<table border=\"1\" class=\"dataframe\">\n",
              "  <thead>\n",
              "    <tr style=\"text-align: right;\">\n",
              "      <th></th>\n",
              "      <th>intercept</th>\n",
              "      <th>ID</th>\n",
              "      <th>clump_thickness</th>\n",
              "      <th>cell_sz_unif</th>\n",
              "      <th>cell_shape_unif</th>\n",
              "      <th>marginal_adhesion</th>\n",
              "      <th>epi_cell_sz</th>\n",
              "      <th>bare_nuclei</th>\n",
              "      <th>bland_chromatin</th>\n",
              "      <th>normal_nucleoli</th>\n",
              "      <th>mitoses</th>\n",
              "      <th>class</th>\n",
              "    </tr>\n",
              "  </thead>\n",
              "  <tbody>\n",
              "    <tr>\n",
              "      <th>count</th>\n",
              "      <td>683.0</td>\n",
              "      <td>6.830000e+02</td>\n",
              "      <td>683.000000</td>\n",
              "      <td>683.000000</td>\n",
              "      <td>683.000000</td>\n",
              "      <td>683.000000</td>\n",
              "      <td>683.000000</td>\n",
              "      <td>683.000000</td>\n",
              "      <td>683.000000</td>\n",
              "      <td>683.000000</td>\n",
              "      <td>683.000000</td>\n",
              "      <td>683.000000</td>\n",
              "    </tr>\n",
              "    <tr>\n",
              "      <th>mean</th>\n",
              "      <td>1.0</td>\n",
              "      <td>1.076720e+06</td>\n",
              "      <td>4.442167</td>\n",
              "      <td>3.150805</td>\n",
              "      <td>3.215227</td>\n",
              "      <td>2.830161</td>\n",
              "      <td>3.234261</td>\n",
              "      <td>3.544656</td>\n",
              "      <td>3.445095</td>\n",
              "      <td>2.869693</td>\n",
              "      <td>1.603221</td>\n",
              "      <td>0.349927</td>\n",
              "    </tr>\n",
              "    <tr>\n",
              "      <th>std</th>\n",
              "      <td>0.0</td>\n",
              "      <td>6.206440e+05</td>\n",
              "      <td>2.820761</td>\n",
              "      <td>3.065145</td>\n",
              "      <td>2.988581</td>\n",
              "      <td>2.864562</td>\n",
              "      <td>2.223085</td>\n",
              "      <td>3.643857</td>\n",
              "      <td>2.449697</td>\n",
              "      <td>3.052666</td>\n",
              "      <td>1.732674</td>\n",
              "      <td>0.477296</td>\n",
              "    </tr>\n",
              "    <tr>\n",
              "      <th>min</th>\n",
              "      <td>1.0</td>\n",
              "      <td>6.337500e+04</td>\n",
              "      <td>1.000000</td>\n",
              "      <td>1.000000</td>\n",
              "      <td>1.000000</td>\n",
              "      <td>1.000000</td>\n",
              "      <td>1.000000</td>\n",
              "      <td>1.000000</td>\n",
              "      <td>1.000000</td>\n",
              "      <td>1.000000</td>\n",
              "      <td>1.000000</td>\n",
              "      <td>0.000000</td>\n",
              "    </tr>\n",
              "    <tr>\n",
              "      <th>25%</th>\n",
              "      <td>1.0</td>\n",
              "      <td>8.776170e+05</td>\n",
              "      <td>2.000000</td>\n",
              "      <td>1.000000</td>\n",
              "      <td>1.000000</td>\n",
              "      <td>1.000000</td>\n",
              "      <td>2.000000</td>\n",
              "      <td>1.000000</td>\n",
              "      <td>2.000000</td>\n",
              "      <td>1.000000</td>\n",
              "      <td>1.000000</td>\n",
              "      <td>0.000000</td>\n",
              "    </tr>\n",
              "    <tr>\n",
              "      <th>50%</th>\n",
              "      <td>1.0</td>\n",
              "      <td>1.171795e+06</td>\n",
              "      <td>4.000000</td>\n",
              "      <td>1.000000</td>\n",
              "      <td>1.000000</td>\n",
              "      <td>1.000000</td>\n",
              "      <td>2.000000</td>\n",
              "      <td>1.000000</td>\n",
              "      <td>3.000000</td>\n",
              "      <td>1.000000</td>\n",
              "      <td>1.000000</td>\n",
              "      <td>0.000000</td>\n",
              "    </tr>\n",
              "    <tr>\n",
              "      <th>75%</th>\n",
              "      <td>1.0</td>\n",
              "      <td>1.238705e+06</td>\n",
              "      <td>6.000000</td>\n",
              "      <td>5.000000</td>\n",
              "      <td>5.000000</td>\n",
              "      <td>4.000000</td>\n",
              "      <td>4.000000</td>\n",
              "      <td>6.000000</td>\n",
              "      <td>5.000000</td>\n",
              "      <td>4.000000</td>\n",
              "      <td>1.000000</td>\n",
              "      <td>1.000000</td>\n",
              "    </tr>\n",
              "    <tr>\n",
              "      <th>max</th>\n",
              "      <td>1.0</td>\n",
              "      <td>1.345435e+07</td>\n",
              "      <td>10.000000</td>\n",
              "      <td>10.000000</td>\n",
              "      <td>10.000000</td>\n",
              "      <td>10.000000</td>\n",
              "      <td>10.000000</td>\n",
              "      <td>10.000000</td>\n",
              "      <td>10.000000</td>\n",
              "      <td>10.000000</td>\n",
              "      <td>10.000000</td>\n",
              "      <td>1.000000</td>\n",
              "    </tr>\n",
              "  </tbody>\n",
              "</table>\n",
              "</div>"
            ],
            "text/plain": [
              "       intercept            ID  ...     mitoses       class\n",
              "count      683.0  6.830000e+02  ...  683.000000  683.000000\n",
              "mean         1.0  1.076720e+06  ...    1.603221    0.349927\n",
              "std          0.0  6.206440e+05  ...    1.732674    0.477296\n",
              "min          1.0  6.337500e+04  ...    1.000000    0.000000\n",
              "25%          1.0  8.776170e+05  ...    1.000000    0.000000\n",
              "50%          1.0  1.171795e+06  ...    1.000000    0.000000\n",
              "75%          1.0  1.238705e+06  ...    1.000000    1.000000\n",
              "max          1.0  1.345435e+07  ...   10.000000    1.000000\n",
              "\n",
              "[8 rows x 12 columns]"
            ]
          },
          "metadata": {
            "tags": []
          },
          "execution_count": 3
        }
      ]
    },
    {
      "cell_type": "code",
      "metadata": {
        "id": "-WFoZdcjzPVB",
        "colab_type": "code",
        "colab": {}
      },
      "source": [
        "#----------SEPARATE DATA\n",
        "\n",
        "# Choose seed\n",
        "np.random.seed(420)\n",
        "\n",
        "# Separate training and testing data\n",
        "train_data, validate_data, test_data = np.split(clean_data.sample(frac=1), [int(.8*len(clean_data)), int(.9*len(clean_data))])\n",
        "\n",
        "# Separate training inputs and outputs\n",
        "x_train = train_data.drop(['class','ID'], axis=1)  \n",
        "y_train = train_data['class']\n",
        "\n",
        "# Separate validation inputs and outputs\n",
        "x_val = validate_data.drop(['class','ID'], axis=1)  \n",
        "y_val = validate_data['class']\n",
        "\n",
        "# Separate testing inputs and outputs\n",
        "x_test = test_data.drop(['class','ID'], axis=1)\n",
        "y_test = test_data['class']\n",
        "\n",
        "\n",
        "# Normalize testing validation and training inputs\n",
        "x_train = (x_train-x_train.min())/(x_train.max()-x_train.min()) \n",
        "x_train.intercept = np.ones(len(x_train))\n",
        "x_val = (x_val-x_val.min())/(x_val.max()-x_val.min()) \n",
        "x_val.intercept = np.ones(len(x_val))\n",
        "x_test = (x_test-x_test.min())/(x_test.max()-x_test.min()) \n",
        "x_test.intercept = np.ones(len(x_test))"
      ],
      "execution_count": null,
      "outputs": []
    },
    {
      "cell_type": "code",
      "metadata": {
        "id": "e28BmOVT5KZH",
        "colab_type": "code",
        "colab": {
          "base_uri": "https://localhost:8080/",
          "height": 50
        },
        "outputId": "84c5b089-94c3-4e9f-bced-037b319a8f2b"
      },
      "source": [
        "#------------LOGISTIC REGRESSION WITH STOCHASTIC GRADIENT DESCENT\n",
        "# set initial thetas\n",
        "thetas = np.ones(len(x_train.columns))\n",
        "\n",
        "# for plotting later\n",
        "likelihood_no_reg = np.ones([1,1000])[0]\n",
        "\n",
        "# use stochastic gradient descent\n",
        "for i in range(1000):\n",
        "  alpha=0.01 # step size\n",
        "  h = 1/(1 + np.exp(-np.dot(x_train,np.transpose(thetas))))\n",
        "  error = y_train - h\n",
        "  thetas = thetas + alpha * np.dot(error,x_train)\n",
        "\n",
        "  # for plotting later, calculate likelihood function\n",
        "  likelihood_no_reg[i] = np.multiply(h**y_train,(np.ones(h.shape)-h)**(1-y_train))[0]\n",
        "\n",
        "print(\"Logistic regression coefficients:\",thetas)"
      ],
      "execution_count": null,
      "outputs": [
        {
          "output_type": "stream",
          "text": [
            "Logistic regression coefficients: [-7.36995746  5.06161463  0.36119204  2.62576041  2.41971287  0.60631737\n",
            "  3.56808679  4.81282288  2.52051775  3.22786641]\n"
          ],
          "name": "stdout"
        }
      ]
    },
    {
      "cell_type": "code",
      "metadata": {
        "id": "7G8cmMQ0dBVC",
        "colab_type": "code",
        "colab": {
          "base_uri": "https://localhost:8080/",
          "height": 34
        },
        "outputId": "1865ccf6-ffee-44d1-ef13-7b3f24bd7ff2"
      },
      "source": [
        "# score on test set\n",
        "benchmark = 0.5 # set decision boundary\n",
        "\n",
        "# apply thetas \n",
        "logistic_sga_predicted = 1/(1 + np.exp(-np.dot(x_test,np.transpose(thetas))))\n",
        "logistic_sga_predicted_class = [0 if i<=benchmark else 1 for i in logistic_sga_predicted]\n",
        "\n",
        "# XOR lists together to find where classes are different, and divide by length to get % incorrect\n",
        "pred_incorrect = sum(list(map(bool,logistic_sga_predicted_class)) ^ y_test.astype('bool'))/len(logistic_sga_predicted_class) \n",
        "print(\"Percent of incorrect predictions:\",pred_incorrect*100,\"%\")"
      ],
      "execution_count": null,
      "outputs": [
        {
          "output_type": "stream",
          "text": [
            "Percent of incorrect predictions: 2.898550724637681 %\n"
          ],
          "name": "stdout"
        }
      ]
    },
    {
      "cell_type": "markdown",
      "metadata": {
        "id": "ApQs6yezmRNX",
        "colab_type": "text"
      },
      "source": [
        "The decision boundary was set at 0.5, meaning that if there was more than a 50% chance that the cells were malignant, they were marked as such, otherwise, they were marked as benign. Of course, this number may change in the real world (it may make more sense to tell people they have cancer when you are more sure, or if you are aggressive, you may want to order further tests even if there is a smaller chance it is cancer). The model, using logistic regression, has a 2% error rate on the test dataset."
      ]
    },
    {
      "cell_type": "code",
      "metadata": {
        "id": "kNT_LgiN6mDF",
        "colab_type": "code",
        "colab": {
          "base_uri": "https://localhost:8080/",
          "height": 84
        },
        "outputId": "9383494f-d3d0-4f38-82c0-a15c88124606"
      },
      "source": [
        "#------------LOGISTIC REGRESSION WITH SGD AND REGULARIZATION\n",
        "# set initial thetas\n",
        "thetas_reg = np.ones((1000, len(x_train.columns))) # one row for each lambda\n",
        "\n",
        "# set vector of lambdas\n",
        "lambdas = np.linspace(0, 0.1, num=10) # I want to test more smaller values than larger values\n",
        "\n",
        "# initialize scoring vector\n",
        "vals = np.zeros(lambdas.shape)\n",
        "\n",
        "# set likelihood vector\n",
        "likelihood_reg = np.ones((1,1000))[0]\n",
        "\n",
        "# use stochastic gradient descent for each lambda\n",
        "alpha=0.01 # step size\n",
        "benchmark = 0.5\n",
        "\n",
        "for index,lam in enumerate(lambdas):\n",
        "  for i in range(1000):\n",
        "    h = 1/(1 + np.exp(-np.dot(x_train,np.transpose(thetas_reg[index]))))\n",
        "    error = y_train - h\n",
        "\n",
        "    # update thetas using SGD and L2 regularization penalty\n",
        "    thetas_reg[index] = thetas_reg[index] + alpha * np.dot(error,x_train) - lam * 2 * thetas_reg[index]\n",
        "\n",
        "    # for plotting later, calculate likelihood function\n",
        "    likelihood_reg[i] = np.multiply(h**y_train,(np.ones(h.shape)-h)**(1-y_train))[0]\n",
        "\n",
        "  log_sgd_reg_pred = 1/(1 + np.exp(-np.dot(x_val,np.transpose(thetas_reg[index]))))\n",
        "  log_sgd_reg_pred_class = [0 if i<=benchmark else 1 for i in log_sgd_reg_pred]\n",
        "\n",
        "  # XOR lists together to find where classes are different, and divide by length to get % incorrect\n",
        "  pred_incorrect = sum(list(map(bool,log_sgd_reg_pred_class)) ^ y_val.astype('bool'))/len(log_sgd_reg_pred_class) \n",
        "  vals[index] = pred_incorrect\n",
        "\n",
        "# Find lambda that minimizes error on val set\n",
        "minpos = np.where(vals == vals.min())\n",
        "minpos = minpos[0][0] # choose first one if many local minima\n",
        "best_lam = lambdas[minpos]\n",
        "\n",
        "print(\"Best lambda chosen on validation set:\",best_lam)\n",
        "thetas_reg_best = thetas_reg[minpos]\n",
        "print(\"Best coefficients chosen on validation set:\",thetas_reg_best)\n",
        "\n",
        "# Apply new thetas to test set and score\n",
        "log_sgd_reg_pred = 1/(1 + np.exp(-np.dot(x_test,np.transpose(thetas_reg_best))))\n",
        "log_sgd_reg_pred_class = [0 if i<=benchmark else 1 for i in log_sgd_reg_pred]\n",
        "\n",
        "# XOR lists together to find where classes are different, and divide by length to get % incorrect\n",
        "pred_incorrect_sgd = sum(list(map(bool,log_sgd_reg_pred_class)) ^ y_test.astype('bool'))/len(log_sgd_reg_pred_class) \n",
        "print(\"Percent of incorrect predictions:\",pred_incorrect_sgd*100,\"%\")"
      ],
      "execution_count": null,
      "outputs": [
        {
          "output_type": "stream",
          "text": [
            "Best lambda chosen on validation set: 0.0\n",
            "Best coefficients chosen on validation set: [-7.36995746  5.06161463  0.36119204  2.62576041  2.41971287  0.60631737\n",
            "  3.56808679  4.81282288  2.52051775  3.22786641]\n",
            "Percent of incorrect predictions: 2.898550724637681 %\n"
          ],
          "name": "stdout"
        }
      ]
    },
    {
      "cell_type": "markdown",
      "metadata": {
        "id": "VVmVzPynqKJa",
        "colab_type": "text"
      },
      "source": [
        "Using stochastic gradient descent, we chose the best $\\lambda$ value by minimizing the cost function. In the case where multiple values minimized the function, we chose the first. With an error rate of approximately 3%, only two cases are misidentified, which is the same percentage as logistic regression without SGD. Because the test dataset only has 69 entries, this percentage could certainly change with a larger dataset."
      ]
    },
    {
      "cell_type": "code",
      "metadata": {
        "id": "cXVrTO6mutCH",
        "colab_type": "code",
        "colab": {
          "base_uri": "https://localhost:8080/",
          "height": 295
        },
        "outputId": "832a7edc-3f25-4256-b113-59ea324f0e1b"
      },
      "source": [
        "#-------PLOT LIKELIHOOD FUNCTION\n",
        "\n",
        "# prepare iterations\n",
        "i_graph = np.linspace(1,1000,num=1000)\n",
        "\n",
        "fig = plt.figure()\n",
        "\n",
        "likelihood_reg = np.transpose(likelihood_reg)\n",
        "likelihood_no_reg = np.transpose(likelihood_no_reg)\n",
        "\n",
        "plt.plot(i_graph,likelihood_reg)\n",
        "plt.plot(i_graph,likelihood_no_reg)\n",
        "\n",
        "plt.title('Likelihood Function as a Function of Iterations of SGD')\n",
        "plt.ylabel('Likelihood function')\n",
        "plt.xlabel('Number of iterations')\n",
        "plt.legend(['With regularization', 'Without regularization'], loc='lower right')\n",
        "plt.show()"
      ],
      "execution_count": null,
      "outputs": [
        {
          "output_type": "display_data",
          "data": {
            "image/png": "[encoded data removed]",
            "text/plain": [
              "<Figure size 432x288 with 1 Axes>"
            ]
          },
          "metadata": {
            "tags": [],
            "needs_background": "light"
          }
        }
      ]
    },
    {
      "cell_type": "markdown",
      "metadata": {
        "id": "MUW2zzIjYVvX",
        "colab_type": "text"
      },
      "source": [
        "The likelihood function converges slightly faster for the method without regularization than the method that uses it, but this was likely lucky - it turns out that the $\\theta$ coefficients are relatively close to the \"ones\" matrix used initially. Using a matrix full of 100s yields different results, where the regularization method converges after the method without. The method with regularization converges to a lower likelihood of 0.8, whereas the method without regularization converges to approximately 1. Regularization avoids overfitting of the model, which could be why it converges to a lower likelihood - because it penalizes large parameters, the model performs better on data in the real world, but that means it may sacrifice some accuracy on the training set."
      ]
    },
    {
      "cell_type": "code",
      "metadata": {
        "id": "cAqXTgM5lt56",
        "colab_type": "code",
        "colab": {}
      },
      "source": [
        ""
      ],
      "execution_count": null,
      "outputs": []
    }
  ]
}