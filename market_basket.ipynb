{
  "nbformat": 4,
  "nbformat_minor": 0,
  "metadata": {
    "colab": {
      "name": "market_basket.ipynb",
      "provenance": [],
      "collapsed_sections": [],
      "authorship_tag": "ABX9TyPf5DQ+CmjjOhzexRKIJheI",
      "include_colab_link": true
    },
    "kernelspec": {
      "name": "python3",
      "display_name": "Python 3"
    }
  },
  "cells": [
    {
      "cell_type": "markdown",
      "metadata": {
        "id": "view-in-github",
        "colab_type": "text"
      },
      "source": [
        "<a href=\"https://colab.research.google.com/github/wolframalexa/FrequentistML/blob/master/market_basket.ipynb\" target=\"_parent\"><img src=\"https://colab.research.google.com/assets/colab-badge.svg\" alt=\"Open In Colab\"/></a>"
      ]
    },
    {
      "cell_type": "code",
      "metadata": {
        "id": "ax3Q3MhtutwT",
        "colab_type": "code",
        "colab": {}
      },
      "source": [
        "# Market basket assignment: Select a dataset of interest to you and perform a market basket analysis, including finding frequent itemsets and mining association rules. \n",
        "# This assignment is a little more subjective than previous assignments. You can use the code from the text or any of the shelf method that performs the A Priori algorithm\n",
        "\n",
        "# code mostly taken from https://github.com/pbharrin/machinelearninginaction3x/blob/master/Ch11/Ch11.ipynb"
      ],
      "execution_count": 1,
      "outputs": []
    },
    {
      "cell_type": "code",
      "metadata": {
        "id": "ooTPKTnGzBSQ",
        "colab_type": "code",
        "colab": {}
      },
      "source": [
        "# import packages\n",
        "\n",
        "import pandas as pd\n",
        "import numpy as np"
      ],
      "execution_count": 2,
      "outputs": []
    },
    {
      "cell_type": "code",
      "metadata": {
        "id": "-6rsjhDfzToC",
        "colab_type": "code",
        "colab": {}
      },
      "source": [
        "# read data\n",
        "\n",
        "data = 'https://raw.githubusercontent.com/wolframalexa/FrequentistML/master/datasets/groceries.csv'\n",
        "dataframe = pd.read_csv(data, sep=',', header='infer')\n",
        "data = dataframe.to_numpy()\n",
        "data = np.delete(data, 0, 1) # delete first column containing number of items in purchase\n",
        "data = np.nan_to_num(data)"
      ],
      "execution_count": 3,
      "outputs": []
    },
    {
      "cell_type": "code",
      "metadata": {
        "id": "t_IycyxIzmaV",
        "colab_type": "code",
        "colab": {}
      },
      "source": [
        "# create set of one-item candidate itemsets\n",
        "def createC1(dataSet):\n",
        "    C1 = []\n",
        "    for transaction in dataSet:\n",
        "        for item in transaction:\n",
        "            if not [item] in C1 and str(item) != \"nan\":\n",
        "                C1.append([str(item)])\n",
        "    print(C1)            \n",
        "    C1.sort()\n",
        "    return list(map(frozenset, C1))#use frozen set so we\n",
        "                            #can use it as a key in a dict    "
      ],
      "execution_count": 4,
      "outputs": []
    },
    {
      "cell_type": "code",
      "metadata": {
        "id": "eFKMueCyZZIv",
        "colab_type": "code",
        "colab": {
          "base_uri": "https://localhost:8080/",
          "height": 54
        },
        "outputId": "3a187aa6-baff-41c5-8614-ed3abe1daae1"
      },
      "source": [
        "# create a set of all candidate itemsets of length one\n",
        "C1 = createC1(data)"
      ],
      "execution_count": 5,
      "outputs": [
        {
          "output_type": "stream",
          "text": [
            "[['citrus fruit'], ['semi-finished bread'], ['margarine'], ['ready soups'], ['tropical fruit'], ['yogurt'], ['coffee'], ['whole milk'], ['pip fruit'], ['cream cheese'], ['meat spreads'], ['other vegetables'], ['condensed milk'], ['long life bakery product'], ['butter'], ['rice'], ['abrasive cleaner'], ['rolls/buns'], ['UHT-milk'], ['bottled beer'], ['liquor (appetizer)'], ['potted plants'], ['cereals'], ['white bread'], ['bottled water'], ['chocolate'], ['curd'], ['flour'], ['dishes'], ['beef'], ['frankfurter'], ['soda'], ['chicken'], ['sugar'], ['fruit/vegetable juice'], ['newspapers'], ['packaged fruit/vegetables'], ['specialty bar'], ['butter milk'], ['pastry'], ['processed cheese'], ['detergent'], ['root vegetables'], ['frozen dessert'], ['sweet spreads'], ['salty snack'], ['waffles'], ['candy'], ['bathroom cleaner'], ['canned beer'], ['sausage'], ['brown bread'], ['shopping bags'], ['beverages'], ['hamburger meat'], ['spices'], ['hygiene articles'], ['napkins'], ['pork'], ['berries'], ['whipped/sour cream'], ['artif. sweetener'], ['grapes'], ['dessert'], ['zwieback'], ['domestic eggs'], ['spread cheese'], ['misc. beverages'], ['hard cheese'], ['cat food'], ['ham'], ['turkey'], ['baking powder'], ['pickled vegetables'], ['oil'], ['chewing gum'], ['chocolate marshmallow'], ['ice cream'], ['frozen vegetables'], ['canned fish'], ['seasonal products'], ['curd cheese'], ['red/blush wine'], ['frozen potato products'], ['specialty fat'], ['specialty chocolate'], ['candles'], ['flower (seeds)'], ['sparkling wine'], ['salt'], ['frozen meals'], ['canned vegetables'], ['onions'], ['herbs'], ['white wine'], ['brandy'], ['photo/film'], ['sliced cheese'], ['pasta'], ['softener'], ['cling film/bags'], ['fish'], ['male cosmetics'], ['canned fruit'], ['Instant food products'], ['soft cheese'], ['honey'], ['dental care'], ['popcorn'], ['cake bar'], ['snack products'], ['flower soil/fertilizer'], ['specialty cheese'], ['finished products'], ['cocoa drinks'], ['dog food'], ['prosecco'], ['frozen fish'], ['make up remover'], ['cleaner'], ['female sanitary products'], ['dish cleaner'], ['cookware'], ['meat'], ['tea'], ['mustard'], ['house keeping products'], ['skin care'], ['potato products'], ['liquor'], ['pet care'], ['soups'], ['rum'], ['salad dressing'], ['sauces'], ['vinegar'], ['soap'], ['hair spray'], ['instant coffee'], ['roll products'], ['mayonnaise'], ['rubbing alcohol'], ['syrup'], ['liver loaf'], ['baby cosmetics'], ['organic products'], ['nut snack'], ['kitchen towels'], ['frozen chicken'], ['light bulbs'], ['ketchup'], ['jam'], ['decalcifier'], ['nuts/prunes'], ['liqueur'], ['organic sausage'], ['cream'], ['toilet cleaner'], ['specialty vegetables'], ['baby food'], ['pudding powder'], ['tidbits'], ['whisky'], ['frozen fruits'], ['bags'], ['cooking chocolate'], ['sound storage medium'], ['kitchen utensil'], ['preservation products']]\n"
          ],
          "name": "stdout"
        }
      ]
    },
    {
      "cell_type": "code",
      "metadata": {
        "id": "HxyqGLKsWkaw",
        "colab_type": "code",
        "colab": {}
      },
      "source": [
        "# find sets that meet a minimum level of support\n",
        "def scanD(D, Ck, minSupport):\n",
        "    ssCnt = {}\n",
        "    for tid in D:\n",
        "        for can in Ck:\n",
        "            if can.issubset(tid):\n",
        "                if can not in ssCnt: ssCnt[can]=1\n",
        "                else: ssCnt[can] += 1\n",
        "    numItems = float(len(D))\n",
        "    retList = []\n",
        "    supportData = {}\n",
        "    for key in ssCnt:\n",
        "        support = ssCnt[key]/numItems\n",
        "        if support >= minSupport:\n",
        "            retList.insert(0,key)\n",
        "        supportData[key] = support\n",
        "    return retList, supportData"
      ],
      "execution_count": 6,
      "outputs": []
    },
    {
      "cell_type": "code",
      "metadata": {
        "id": "C5c51LF_i9GW",
        "colab_type": "code",
        "colab": {
          "base_uri": "https://localhost:8080/",
          "height": 54
        },
        "outputId": "129e226b-78af-4706-91f2-06a55cbffcec"
      },
      "source": [
        "D = list(map(set,data)) # create sets: one per transaction\n",
        "L1,suppData0 = scanD(D, C1, 0.10) # output sets that meet a minimum support\n",
        "print(\"Common items:\",L1)"
      ],
      "execution_count": 7,
      "outputs": [
        {
          "output_type": "stream",
          "text": [
            "Common items: [frozenset({'root vegetables'}), frozenset({'soda'}), frozenset({'bottled water'}), frozenset({'rolls/buns'}), frozenset({'other vegetables'}), frozenset({'whole milk'}), frozenset({'yogurt'}), frozenset({'tropical fruit'})]\n"
          ],
          "name": "stdout"
        }
      ]
    },
    {
      "cell_type": "code",
      "metadata": {
        "id": "zBnGc8lqbd4f",
        "colab_type": "code",
        "colab": {}
      },
      "source": [
        "def aprioriGen(Lk, k): #creates Ck\n",
        "    retList = []\n",
        "    lenLk = len(Lk)\n",
        "    for i in range(lenLk):\n",
        "        for j in range(i+1, lenLk): \n",
        "            L1 = list(Lk[i])[:k-2]; L2 = list(Lk[j])[:k-2]\n",
        "            L1.sort(); L2.sort()\n",
        "            if L1==L2: #if first k-2 elements are equal\n",
        "                retList.append(Lk[i] | Lk[j]) #set union\n",
        "    return retList\n",
        "\n",
        "def apriori(dataSet, minSupport = 0.5):\n",
        "    C1 = createC1(dataSet)\n",
        "    D = list(map(set, dataSet))\n",
        "    L1, supportData = scanD(D, C1, minSupport)\n",
        "    L = [L1]\n",
        "    k = 2\n",
        "    while (len(L[k-2]) > 0):\n",
        "        Ck = aprioriGen(L[k-2], k)\n",
        "        Lk, supK = scanD(D, Ck, minSupport)#scan DB to get Lk\n",
        "        supportData.update(supK)\n",
        "        L.append(Lk)\n",
        "        k += 1\n",
        "    return L, supportData"
      ],
      "execution_count": 8,
      "outputs": []
    },
    {
      "cell_type": "code",
      "metadata": {
        "id": "AMSbNzd5XJje",
        "colab_type": "code",
        "colab": {
          "base_uri": "https://localhost:8080/",
          "height": 54
        },
        "outputId": "cfff9d6c-1917-4696-e159-ce31b6689fbd"
      },
      "source": [
        "# generate all possible sets of all lengths\n",
        "L, suppData = apriori(data, minSupport = 0.02)"
      ],
      "execution_count": 9,
      "outputs": [
        {
          "output_type": "stream",
          "text": [
            "[['citrus fruit'], ['semi-finished bread'], ['margarine'], ['ready soups'], ['tropical fruit'], ['yogurt'], ['coffee'], ['whole milk'], ['pip fruit'], ['cream cheese'], ['meat spreads'], ['other vegetables'], ['condensed milk'], ['long life bakery product'], ['butter'], ['rice'], ['abrasive cleaner'], ['rolls/buns'], ['UHT-milk'], ['bottled beer'], ['liquor (appetizer)'], ['potted plants'], ['cereals'], ['white bread'], ['bottled water'], ['chocolate'], ['curd'], ['flour'], ['dishes'], ['beef'], ['frankfurter'], ['soda'], ['chicken'], ['sugar'], ['fruit/vegetable juice'], ['newspapers'], ['packaged fruit/vegetables'], ['specialty bar'], ['butter milk'], ['pastry'], ['processed cheese'], ['detergent'], ['root vegetables'], ['frozen dessert'], ['sweet spreads'], ['salty snack'], ['waffles'], ['candy'], ['bathroom cleaner'], ['canned beer'], ['sausage'], ['brown bread'], ['shopping bags'], ['beverages'], ['hamburger meat'], ['spices'], ['hygiene articles'], ['napkins'], ['pork'], ['berries'], ['whipped/sour cream'], ['artif. sweetener'], ['grapes'], ['dessert'], ['zwieback'], ['domestic eggs'], ['spread cheese'], ['misc. beverages'], ['hard cheese'], ['cat food'], ['ham'], ['turkey'], ['baking powder'], ['pickled vegetables'], ['oil'], ['chewing gum'], ['chocolate marshmallow'], ['ice cream'], ['frozen vegetables'], ['canned fish'], ['seasonal products'], ['curd cheese'], ['red/blush wine'], ['frozen potato products'], ['specialty fat'], ['specialty chocolate'], ['candles'], ['flower (seeds)'], ['sparkling wine'], ['salt'], ['frozen meals'], ['canned vegetables'], ['onions'], ['herbs'], ['white wine'], ['brandy'], ['photo/film'], ['sliced cheese'], ['pasta'], ['softener'], ['cling film/bags'], ['fish'], ['male cosmetics'], ['canned fruit'], ['Instant food products'], ['soft cheese'], ['honey'], ['dental care'], ['popcorn'], ['cake bar'], ['snack products'], ['flower soil/fertilizer'], ['specialty cheese'], ['finished products'], ['cocoa drinks'], ['dog food'], ['prosecco'], ['frozen fish'], ['make up remover'], ['cleaner'], ['female sanitary products'], ['dish cleaner'], ['cookware'], ['meat'], ['tea'], ['mustard'], ['house keeping products'], ['skin care'], ['potato products'], ['liquor'], ['pet care'], ['soups'], ['rum'], ['salad dressing'], ['sauces'], ['vinegar'], ['soap'], ['hair spray'], ['instant coffee'], ['roll products'], ['mayonnaise'], ['rubbing alcohol'], ['syrup'], ['liver loaf'], ['baby cosmetics'], ['organic products'], ['nut snack'], ['kitchen towels'], ['frozen chicken'], ['light bulbs'], ['ketchup'], ['jam'], ['decalcifier'], ['nuts/prunes'], ['liqueur'], ['organic sausage'], ['cream'], ['toilet cleaner'], ['specialty vegetables'], ['baby food'], ['pudding powder'], ['tidbits'], ['whisky'], ['frozen fruits'], ['bags'], ['cooking chocolate'], ['sound storage medium'], ['kitchen utensil'], ['preservation products']]\n"
          ],
          "name": "stdout"
        }
      ]
    },
    {
      "cell_type": "code",
      "metadata": {
        "id": "qJcpqaZrW6k4",
        "colab_type": "code",
        "colab": {}
      },
      "source": [
        "def calcConf(freqSet, H, supportData, brl, minConf):\n",
        "    prunedH = [] #create new list to return\n",
        "    for conseq in H:\n",
        "        conf = supportData[freqSet]/supportData[freqSet-conseq] #calc confidence\n",
        "        if conf >= minConf: \n",
        "            print(freqSet-conseq,'-->',conseq,'conf:',conf)\n",
        "            brl.append((freqSet-conseq, conseq, conf))\n",
        "            prunedH.append(conseq)\n",
        "    return prunedH"
      ],
      "execution_count": 10,
      "outputs": []
    },
    {
      "cell_type": "code",
      "metadata": {
        "id": "kitaARcpW9g8",
        "colab_type": "code",
        "colab": {}
      },
      "source": [
        "def rulesFromConseq(freqSet, H, supportData, brl, minConf):\n",
        "    m = len(H[0])\n",
        "    if (len(freqSet) > (m + 1)): #try further merging\n",
        "        Hmp1 = aprioriGen(H, m+1)#create Hm+1 new candidates\n",
        "        Hmp1 = calcConf(freqSet, Hmp1, supportData, brl, minConf)\n",
        "        if (len(Hmp1) > 1):    #need at least two sets to merge\n",
        "            rulesFromConseq(freqSet, Hmp1, supportData, brl, minConf)"
      ],
      "execution_count": 11,
      "outputs": []
    },
    {
      "cell_type": "code",
      "metadata": {
        "id": "IOoUD4KfW0E2",
        "colab_type": "code",
        "colab": {}
      },
      "source": [
        "def generateRules(L, supportData, minConf):  #supportData is a dict coming from scanD\n",
        "    bigRuleList = []\n",
        "    for i in range(1, len(L)):#only get the sets with two or more items\n",
        "        for freqSet in L[i]:\n",
        "            H1 = [frozenset([item]) for item in freqSet]\n",
        "            if (i > 1):\n",
        "                rulesFromConseq(freqSet, H1, supportData, bigRuleList, minConf)\n",
        "            else:\n",
        "                calcConf(freqSet, H1, supportData, bigRuleList, minConf)\n",
        "    return bigRuleList   "
      ],
      "execution_count": 12,
      "outputs": []
    },
    {
      "cell_type": "code",
      "metadata": {
        "id": "gQ31XjzfX8KX",
        "colab_type": "code",
        "colab": {
          "base_uri": "https://localhost:8080/",
          "height": 218
        },
        "outputId": "3a308fa5-781d-4a55-c801-10b0930d86f9"
      },
      "source": [
        "# generate rules\n",
        "rules = generateRules(L, suppData, 0.4)"
      ],
      "execution_count": 13,
      "outputs": [
        {
          "output_type": "stream",
          "text": [
            "frozenset({'margarine'}) --> frozenset({'whole milk'}) conf: 0.4131944444444444\n",
            "frozenset({'beef'}) --> frozenset({'whole milk'}) conf: 0.4050387596899225\n",
            "frozenset({'frozen vegetables'}) --> frozenset({'whole milk'}) conf: 0.4249471458773784\n",
            "frozenset({'domestic eggs'}) --> frozenset({'whole milk'}) conf: 0.47275641025641024\n",
            "frozenset({'whipped/sour cream'}) --> frozenset({'whole milk'}) conf: 0.449645390070922\n",
            "frozenset({'whipped/sour cream'}) --> frozenset({'other vegetables'}) conf: 0.40283687943262414\n",
            "frozenset({'root vegetables'}) --> frozenset({'whole milk'}) conf: 0.44869402985074625\n",
            "frozenset({'root vegetables'}) --> frozenset({'other vegetables'}) conf: 0.43470149253731344\n",
            "frozenset({'tropical fruit'}) --> frozenset({'whole milk'}) conf: 0.40310077519379844\n",
            "frozenset({'curd'}) --> frozenset({'whole milk'}) conf: 0.4904580152671756\n",
            "frozenset({'yogurt'}) --> frozenset({'whole milk'}) conf: 0.40160349854227406\n",
            "frozenset({'butter'}) --> frozenset({'whole milk'}) conf: 0.4972477064220184\n"
          ],
          "name": "stdout"
        }
      ]
    },
    {
      "cell_type": "markdown",
      "metadata": {
        "id": "tYEFg8IVeRtr",
        "colab_type": "text"
      },
      "source": [
        "Generating rules with a minimum confidence of 40%, we find that buying margarine, beef, frozen vegetables, domestic eggs, curd, yogurt, butter, root vegetabes, or whipped/sour cream, is a relatively strong indicator that one will buy whole milk. \n",
        "\n",
        "For supermarkets, staples like milk and eggs are known as loss leaders - they are sold slightly above or at cost in order to get customers in the door and encourage them to buy higher-margin items, which is the case of the items on the left hand side of the rules. The grocery store can use the loss leader to its full potential by placing it at the back of the store so customers have to walk through full-priced items (those on the LHS) to pick it up."
      ]
    },
    {
      "cell_type": "code",
      "metadata": {
        "id": "qn3vXBVRe6zH",
        "colab_type": "code",
        "colab": {
          "base_uri": "https://localhost:8080/",
          "height": 554
        },
        "outputId": "d293bf04-219a-47f1-e087-8afd4eefa04c"
      },
      "source": [
        "rules = generateRules(L, suppData, 0.3)"
      ],
      "execution_count": 14,
      "outputs": [
        {
          "output_type": "stream",
          "text": [
            "frozenset({'yogurt'}) --> frozenset({'other vegetables'}) conf: 0.3112244897959184\n",
            "frozenset({'pip fruit'}) --> frozenset({'other vegetables'}) conf: 0.3454301075268817\n",
            "frozenset({'citrus fruit'}) --> frozenset({'other vegetables'}) conf: 0.34889434889434895\n",
            "frozenset({'fruit/vegetable juice'}) --> frozenset({'whole milk'}) conf: 0.36849507735583686\n",
            "frozenset({'frankfurter'}) --> frozenset({'whole milk'}) conf: 0.3482758620689655\n",
            "frozenset({'newspapers'}) --> frozenset({'whole milk'}) conf: 0.34267515923566877\n",
            "frozenset({'margarine'}) --> frozenset({'whole milk'}) conf: 0.4131944444444444\n",
            "frozenset({'pip fruit'}) --> frozenset({'whole milk'}) conf: 0.3978494623655914\n",
            "frozenset({'rolls/buns'}) --> frozenset({'whole milk'}) conf: 0.30790491984521834\n",
            "frozenset({'beef'}) --> frozenset({'whole milk'}) conf: 0.4050387596899225\n",
            "frozenset({'sausage'}) --> frozenset({'whole milk'}) conf: 0.3181818181818182\n",
            "frozenset({'frozen vegetables'}) --> frozenset({'whole milk'}) conf: 0.4249471458773784\n",
            "frozenset({'domestic eggs'}) --> frozenset({'other vegetables'}) conf: 0.35096153846153844\n",
            "frozenset({'butter'}) --> frozenset({'other vegetables'}) conf: 0.3614678899082569\n",
            "frozenset({'pastry'}) --> frozenset({'whole milk'}) conf: 0.3737142857142857\n",
            "frozenset({'brown bread'}) --> frozenset({'whole milk'}) conf: 0.3887147335423197\n",
            "frozenset({'domestic eggs'}) --> frozenset({'whole milk'}) conf: 0.47275641025641024\n",
            "frozenset({'pork'}) --> frozenset({'whole milk'}) conf: 0.3844797178130512\n",
            "frozenset({'pork'}) --> frozenset({'other vegetables'}) conf: 0.37566137566137564\n",
            "frozenset({'whipped/sour cream'}) --> frozenset({'whole milk'}) conf: 0.449645390070922\n",
            "frozenset({'whipped/sour cream'}) --> frozenset({'other vegetables'}) conf: 0.40283687943262414\n",
            "frozenset({'root vegetables'}) --> frozenset({'whole milk'}) conf: 0.44869402985074625\n",
            "frozenset({'sausage'}) --> frozenset({'rolls/buns'}) conf: 0.3257575757575758\n",
            "frozenset({'root vegetables'}) --> frozenset({'other vegetables'}) conf: 0.43470149253731344\n",
            "frozenset({'citrus fruit'}) --> frozenset({'whole milk'}) conf: 0.36855036855036855\n",
            "frozenset({'tropical fruit'}) --> frozenset({'whole milk'}) conf: 0.40310077519379844\n",
            "frozenset({'bottled water'}) --> frozenset({'whole milk'}) conf: 0.31094756209751606\n",
            "frozenset({'curd'}) --> frozenset({'whole milk'}) conf: 0.4904580152671756\n",
            "frozenset({'tropical fruit'}) --> frozenset({'other vegetables'}) conf: 0.34205426356589147\n",
            "frozenset({'yogurt'}) --> frozenset({'whole milk'}) conf: 0.40160349854227406\n",
            "frozenset({'butter'}) --> frozenset({'whole milk'}) conf: 0.4972477064220184\n",
            "frozenset({'other vegetables'}) --> frozenset({'whole milk'}) conf: 0.38675775091960063\n"
          ],
          "name": "stdout"
        }
      ]
    },
    {
      "cell_type": "markdown",
      "metadata": {
        "id": "RzFsNiYsfDr0",
        "colab_type": "text"
      },
      "source": [
        "These rules include all of the above plus rules whose confidence is between 30 and 40 percent. This is mostly interesting because there are fewer associations with \"whole milk\". For instance, buying sausages means one is likely to buy rolls or buns (32% confidence), and buying yogurt, fruit, and eggs is an indicator one will buy 'other vegetables'. \n",
        "\n",
        "The supermarket can capitalize on these associations and consumer behaviour by ensuring that these items are placed far from each other to encourage impulse buys."
      ]
    }
  ]
}