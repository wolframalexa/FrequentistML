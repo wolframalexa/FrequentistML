{
  "nbformat": 4,
  "nbformat_minor": 0,
  "metadata": {
    "colab": {
      "name": "recommendation_nmf.ipynb",
      "provenance": [],
      "collapsed_sections": [],
      "authorship_tag": "ABX9TyMpLsv+fgsimfOB9PCUVd+O",
      "include_colab_link": true
    },
    "kernelspec": {
      "name": "python3",
      "display_name": "Python 3"
    }
  },
  "cells": [
    {
      "cell_type": "markdown",
      "metadata": {
        "id": "view-in-github",
        "colab_type": "text"
      },
      "source": [
        "<a href=\"https://colab.research.google.com/github/wolframalexa/FrequentistML/blob/master/recommendation_nmf.ipynb\" target=\"_parent\"><img src=\"https://colab.research.google.com/assets/colab-badge.svg\" alt=\"Open In Colab\"/></a>"
      ]
    },
    {
      "cell_type": "code",
      "metadata": {
        "id": "Yq_fZFxXRl10",
        "colab_type": "code",
        "colab": {}
      },
      "source": [
        "# NMF project is to select a dataset and use the out of the box sci-kit learn to build a recommendation system.\n",
        "# Note, you should make sure that the dataset is appropriate for a NMF based rec system. \n",
        "# Use your system to output some recommendations for a user or two."
      ],
      "execution_count": 23,
      "outputs": []
    },
    {
      "cell_type": "code",
      "metadata": {
        "id": "wXac458nR3Qs",
        "colab_type": "code",
        "colab": {}
      },
      "source": [
        "# import packages\n",
        "import random\n",
        "from surprise import Dataset\n",
        "from surprise.model_selection.search import GridSearchCV\n",
        "from surprise.prediction_algorithms.matrix_factorization import NMF"
      ],
      "execution_count": 24,
      "outputs": []
    },
    {
      "cell_type": "code",
      "metadata": {
        "id": "qcOD5ve4W24u",
        "colab_type": "code",
        "colab": {}
      },
      "source": [
        "# use built-in movielens-100k dataset\n",
        "data = Dataset.load_builtin('ml-100k')\n",
        "\n",
        "# set seed\n",
        "random.seed(200)"
      ],
      "execution_count": 25,
      "outputs": []
    },
    {
      "cell_type": "code",
      "metadata": {
        "id": "P8WqJAQdSMXo",
        "colab_type": "code",
        "colab": {}
      },
      "source": [
        "# use NMF algorithm to cross validate on different parameters\n",
        "reg_params = [0.04, 0.06, 0.08]\n",
        "param_grid = {'reg_pu': reg_params, 'reg_qi': reg_params}\n",
        "gs = GridSearchCV(NMF, param_grid, measures=['mse'], cv = 3)\n",
        "gs.fit(data)"
      ],
      "execution_count": 26,
      "outputs": []
    },
    {
      "cell_type": "code",
      "metadata": {
        "id": "p4V8SE1Deae7",
        "colab_type": "code",
        "colab": {
          "base_uri": "https://localhost:8080/",
          "height": 50
        },
        "outputId": "6b5fa529-7a88-4b7b-ba00-eaad8645d9e8"
      },
      "source": [
        "print(\"The best score was\",gs.best_score['mse'])\n",
        "print(\"The best parameters were:\",gs.best_params['mse'])"
      ],
      "execution_count": 27,
      "outputs": [
        {
          "output_type": "stream",
          "text": [
            "The best score was 0.9312201763729083\n",
            "The best parameters were: {'reg_pu': 0.08, 'reg_qi': 0.08}\n"
          ],
          "name": "stdout"
        }
      ]
    },
    {
      "cell_type": "code",
      "metadata": {
        "id": "zwF0Z81KiCtE",
        "colab_type": "code",
        "colab": {
          "base_uri": "https://localhost:8080/",
          "height": 34
        },
        "outputId": "a294d217-e7ba-46a6-d057-f916131244ff"
      },
      "source": [
        "# fit model on best parameter combination\n",
        "best_model = gs.best_estimator['mse']\n",
        "best_model.fit(data.build_full_trainset())\n"
      ],
      "execution_count": 28,
      "outputs": [
        {
          "output_type": "execute_result",
          "data": {
            "text/plain": [
              "<surprise.prediction_algorithms.matrix_factorization.NMF at 0x7fe3b69bf550>"
            ]
          },
          "metadata": {
            "tags": []
          },
          "execution_count": 28
        }
      ]
    },
    {
      "cell_type": "code",
      "metadata": {
        "id": "OM23bDOKSlnz",
        "colab_type": "code",
        "colab": {
          "base_uri": "https://localhost:8080/",
          "height": 34
        },
        "outputId": "5456a2a2-72e6-487c-c6fd-b08ad6560d5c"
      },
      "source": [
        "# output recommendations for a few users\n",
        "best_model.predict('3','335', '1')"
      ],
      "execution_count": 29,
      "outputs": [
        {
          "output_type": "execute_result",
          "data": {
            "text/plain": [
              "Prediction(uid='3', iid='335', r_ui='1', est=1.707660946260052, details={'was_impossible': False})"
            ]
          },
          "metadata": {
            "tags": []
          },
          "execution_count": 29
        }
      ]
    },
    {
      "cell_type": "code",
      "metadata": {
        "id": "vdeUbZFZlqc9",
        "colab_type": "code",
        "colab": {
          "base_uri": "https://localhost:8080/",
          "height": 34
        },
        "outputId": "202fcfd9-31c0-443e-c32e-f2888f3d1083"
      },
      "source": [
        "best_model.predict('200', '673', '5')"
      ],
      "execution_count": 30,
      "outputs": [
        {
          "output_type": "execute_result",
          "data": {
            "text/plain": [
              "Prediction(uid='200', iid='673', r_ui='5', est=4.128051248984277, details={'was_impossible': False})"
            ]
          },
          "metadata": {
            "tags": []
          },
          "execution_count": 30
        }
      ]
    },
    {
      "cell_type": "code",
      "metadata": {
        "id": "1ZfjTre_o6Q9",
        "colab_type": "code",
        "colab": {
          "base_uri": "https://localhost:8080/",
          "height": 34
        },
        "outputId": "a7d8c205-8866-459d-b634-b44ad6b3b734"
      },
      "source": [
        "best_model.predict('200', '222', '5')"
      ],
      "execution_count": 31,
      "outputs": [
        {
          "output_type": "execute_result",
          "data": {
            "text/plain": [
              "Prediction(uid='200', iid='222', r_ui='5', est=4.421435031486878, details={'was_impossible': False})"
            ]
          },
          "metadata": {
            "tags": []
          },
          "execution_count": 31
        }
      ]
    },
    {
      "cell_type": "markdown",
      "metadata": {
        "id": "qPaAvWhht99C",
        "colab_type": "text"
      },
      "source": [
        "This recommendation system is able to predict a user's score relatively closely - MSE is 0.93 and the sample predictions are pretty close. Therefore it has a good chance of delivering recommendations that the user will enjoy."
      ]
    }
  ]
}